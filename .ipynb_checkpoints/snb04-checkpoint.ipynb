{
 "cells": [
  {
   "cell_type": "code",
   "execution_count": 3,
   "metadata": {
    "execution": {
     "iopub.execute_input": "2023-06-09T22:43:33.577849Z",
     "iopub.status.busy": "2023-06-09T22:43:33.577486Z",
     "iopub.status.idle": "2023-06-09T22:43:55.382552Z",
     "shell.execute_reply": "2023-06-09T22:43:55.381352Z",
     "shell.execute_reply.started": "2023-06-09T22:43:33.577819Z"
    },
    "executionInfo": {
     "elapsed": 19359,
     "status": "ok",
     "timestamp": 1685803538963,
     "user": {
      "displayName": "Ameck Dosseh",
      "userId": "09603352587859208137"
     },
     "user_tz": -60
    },
    "id": "rp6SHN_OuD_Q",
    "outputId": "a9f81267-9c1e-4540-8988-b997439ce830"
   },
   "outputs": [
    {
     "name": "stdout",
     "output_type": "stream",
     "text": [
      "\u001b[33mWARNING: Running pip as the 'root' user can result in broken permissions and conflicting behaviour with the system package manager. It is recommended to use a virtual environment instead: https://pip.pypa.io/warnings/venv\u001b[0m\u001b[33m\n",
      "\u001b[0m\u001b[33mWARNING: Running pip as the 'root' user can result in broken permissions and conflicting behaviour with the system package manager. It is recommended to use a virtual environment instead: https://pip.pypa.io/warnings/venv\u001b[0m\u001b[33m\n",
      "\u001b[0m"
     ]
    }
   ],
   "source": [
    "# Slidin' Videos: Use high-precision text tracking and semantic segmentation for chapters generation\n",
    "\n",
    "#### Please register for the Slidin' Videos challenge to get download URLs used in this notebook \n",
    "\n",
    "## 1. Deeplab finetuning\n",
    "#### DeepLabV3 model is a pretrained model for semantic segmentation of images. We will finetune it on Slidin' Videos dataset of slide titles\n",
    "\n",
    "# !git clone https://github.com/msminhas93/DeepLabv3FineTuning.git\n",
    "!pip install -q torch torchvision pandas scikit-learn\n",
    "!pip install -q opencv-python-headless Shapely Pillow easyocr\n"
   ]
  },
  {
   "cell_type": "code",
   "execution_count": 4,
   "metadata": {
    "execution": {
     "iopub.execute_input": "2023-06-09T22:43:55.386371Z",
     "iopub.status.busy": "2023-06-09T22:43:55.385407Z",
     "iopub.status.idle": "2023-06-09T22:43:55.391580Z",
     "shell.execute_reply": "2023-06-09T22:43:55.390582Z",
     "shell.execute_reply.started": "2023-06-09T22:43:55.386332Z"
    }
   },
   "outputs": [],
   "source": [
    "# !pip install -q Pillow==6.2.2"
   ]
  },
  {
   "cell_type": "code",
   "execution_count": 5,
   "metadata": {
    "execution": {
     "iopub.execute_input": "2023-06-09T22:43:55.393667Z",
     "iopub.status.busy": "2023-06-09T22:43:55.393305Z",
     "iopub.status.idle": "2023-06-09T22:43:55.403965Z",
     "shell.execute_reply": "2023-06-09T22:43:55.402915Z",
     "shell.execute_reply.started": "2023-06-09T22:43:55.393635Z"
    }
   },
   "outputs": [],
   "source": [
    "# from IPython.core.display import HTML\n",
    "# HTML(\"<script>Jupyter.notebook.kernel.restart()</script>\")"
   ]
  },
  {
   "cell_type": "code",
   "execution_count": 6,
   "metadata": {
    "execution": {
     "iopub.execute_input": "2023-06-09T22:43:55.405842Z",
     "iopub.status.busy": "2023-06-09T22:43:55.405520Z",
     "iopub.status.idle": "2023-06-09T22:44:02.443452Z",
     "shell.execute_reply": "2023-06-09T22:44:02.442158Z",
     "shell.execute_reply.started": "2023-06-09T22:43:55.405812Z"
    }
   },
   "outputs": [],
   "source": [
    "!cp -r /kaggle/input/getdata/* /kaggle/working/"
   ]
  },
  {
   "cell_type": "code",
   "execution_count": 7,
   "metadata": {
    "execution": {
     "iopub.execute_input": "2023-06-09T22:44:02.447663Z",
     "iopub.status.busy": "2023-06-09T22:44:02.447331Z",
     "iopub.status.idle": "2023-06-09T22:44:03.544749Z",
     "shell.execute_reply": "2023-06-09T22:44:03.543494Z",
     "shell.execute_reply.started": "2023-06-09T22:44:02.447634Z"
    },
    "executionInfo": {
     "elapsed": 410,
     "status": "ok",
     "timestamp": 1685803609379,
     "user": {
      "displayName": "Ameck Dosseh",
      "userId": "09603352587859208137"
     },
     "user_tz": -60
    },
    "id": "0iFb5gpzuZXD",
    "outputId": "b0cfb56a-530d-4959-ee8d-0a1580158ed6"
   },
   "outputs": [
    {
     "name": "stdout",
     "output_type": "stream",
     "text": [
      "DeepLabv3FineTuning\t\t    Train.zip\n",
      "SampleSubmission.csv\t\t    __notebook__.ipynb\n",
      "SlidinVideos_StarterNotebook.ipynb  __notebook_source__.ipynb\n",
      "Test\t\t\t\t    __output__.json\n",
      "Test.zip\t\t\t    __results__.html\n",
      "Train.csv\t\t\t    custom.css\n"
     ]
    }
   ],
   "source": [
    "!ls"
   ]
  },
  {
   "cell_type": "code",
   "execution_count": 8,
   "metadata": {
    "execution": {
     "iopub.execute_input": "2023-06-09T22:44:03.549957Z",
     "iopub.status.busy": "2023-06-09T22:44:03.549594Z",
     "iopub.status.idle": "2023-06-09T22:44:03.557251Z",
     "shell.execute_reply": "2023-06-09T22:44:03.556448Z",
     "shell.execute_reply.started": "2023-06-09T22:44:03.549922Z"
    },
    "executionInfo": {
     "elapsed": 39050,
     "status": "ok",
     "timestamp": 1685804043920,
     "user": {
      "displayName": "Ameck Dosseh",
      "userId": "09603352587859208137"
     },
     "user_tz": -60
    },
    "id": "1jkEZp1euL8c"
   },
   "outputs": [],
   "source": [
    "#### Download title masks collection and unzip it to the cloned repository. \n",
    "\n",
    "# !unzip -q Train.zip -d DeepLabv3FineTuning/"
   ]
  },
  {
   "cell_type": "code",
   "execution_count": 9,
   "metadata": {
    "execution": {
     "iopub.execute_input": "2023-06-09T22:44:03.559775Z",
     "iopub.status.busy": "2023-06-09T22:44:03.559061Z",
     "iopub.status.idle": "2023-06-09T22:44:04.673443Z",
     "shell.execute_reply": "2023-06-09T22:44:04.672249Z",
     "shell.execute_reply.started": "2023-06-09T22:44:03.559743Z"
    }
   },
   "outputs": [
    {
     "name": "stdout",
     "output_type": "stream",
     "text": [
      "Analysis.ipynb\tREADME.md\t\t       datahandler.py\t segdataset.py\n",
      "CFExp\t\tSegmentationDatasetDemo.ipynb  environment.yml\t trainer.py\n",
      "CrackForest\tTests\t\t\t       main.py\n",
      "DemoExp\t\tTrain\t\t\t       model.py\n",
      "LICENSE.md\t__pycache__\t\t       requirements.txt\n"
     ]
    }
   ],
   "source": [
    "!ls DeepLabv3FineTuning"
   ]
  },
  {
   "cell_type": "code",
   "execution_count": 10,
   "metadata": {
    "execution": {
     "iopub.execute_input": "2023-06-09T22:44:04.675935Z",
     "iopub.status.busy": "2023-06-09T22:44:04.675558Z",
     "iopub.status.idle": "2023-06-09T22:44:04.681293Z",
     "shell.execute_reply": "2023-06-09T22:44:04.680401Z",
     "shell.execute_reply.started": "2023-06-09T22:44:04.675898Z"
    }
   },
   "outputs": [],
   "source": [
    "# !mkdir DeepLabv3FineTuning/Train"
   ]
  },
  {
   "cell_type": "code",
   "execution_count": 11,
   "metadata": {
    "execution": {
     "iopub.execute_input": "2023-06-09T22:44:04.683346Z",
     "iopub.status.busy": "2023-06-09T22:44:04.682738Z",
     "iopub.status.idle": "2023-06-09T22:44:04.691369Z",
     "shell.execute_reply": "2023-06-09T22:44:04.690434Z",
     "shell.execute_reply.started": "2023-06-09T22:44:04.683314Z"
    }
   },
   "outputs": [],
   "source": [
    "# !mv DeepLabv3FineTuning/Images DeepLabv3FineTuning/Train\n",
    "# !mv DeepLabv3FineTuning/Masks DeepLabv3FineTuning/Train"
   ]
  },
  {
   "cell_type": "code",
   "execution_count": 12,
   "metadata": {
    "execution": {
     "iopub.execute_input": "2023-06-09T22:44:04.693511Z",
     "iopub.status.busy": "2023-06-09T22:44:04.692916Z",
     "iopub.status.idle": "2023-06-09T22:44:06.708383Z",
     "shell.execute_reply": "2023-06-09T22:44:06.707254Z",
     "shell.execute_reply.started": "2023-06-09T22:44:04.693479Z"
    },
    "id": "TbZX1CnauSww",
    "outputId": "ab8960ff-2e89-4432-bc07-a9f42e1ba291"
   },
   "outputs": [
    {
     "name": "stdout",
     "output_type": "stream",
     "text": [
      "/kaggle/working/DeepLabv3FineTuning\n"
     ]
    }
   ],
   "source": [
    "#### Training DeepLab model: our goal is to maximize test_f1_score\n",
    "#### You may want to play with number of epochs, learning rate and loss function to get better results\n",
    "\n",
    "%cd DeepLabv3FineTuning\n",
    "from pathlib import Path\n",
    "\n",
    "#from segmentation_models_pytorch.losses.jaccard  import JaccardLoss\n",
    "#from segmentation_models_pytorch.losses.constants import BINARY_MODE\n",
    "#criterion = JaccardLoss(mode=BINARY_MODE)\n",
    "\n",
    "import torch\n",
    "from sklearn.metrics import f1_score, roc_auc_score\n",
    "from torch.utils import data\n",
    "\n",
    "import datahandler\n",
    "from model import createDeepLabv3\n",
    "from trainer import train_model"
   ]
  },
  {
   "cell_type": "code",
   "execution_count": 13,
   "metadata": {
    "execution": {
     "iopub.execute_input": "2023-06-09T22:44:06.711326Z",
     "iopub.status.busy": "2023-06-09T22:44:06.709923Z",
     "iopub.status.idle": "2023-06-09T22:44:06.719412Z",
     "shell.execute_reply": "2023-06-09T22:44:06.718277Z",
     "shell.execute_reply.started": "2023-06-09T22:44:06.711286Z"
    }
   },
   "outputs": [],
   "source": [
    "\"\"\" FCN Model download and change the head for your prediction\"\"\"\n",
    "from torchvision.models.segmentation.fcn import FCNHead\n",
    "from torchvision.models.segmentation import FCN_ResNet101_Weights\n",
    "from torchvision import models\n",
    "\n",
    "\n",
    "def createFCN(outputchannels=1):\n",
    "    \"\"\"FCN class with custom head\n",
    "\n",
    "    Args:\n",
    "        outputchannels (int, optional): The number of output channels\n",
    "        in your dataset masks. Defaults to 1.\n",
    "\n",
    "    Returns:\n",
    "        model: Returns the DeepLabv3 model with the ResNet101 backbone.\n",
    "    \"\"\"\n",
    "    model = models.segmentation.fcn_resnet101(pretrained=True,\n",
    "                                                    progress=True,\n",
    "                                             weights=FCN_ResNet101_Weights.DEFAULT\n",
    "                                             )\n",
    "    model.classifier = FCNHead(2048, outputchannels)\n",
    "    # Set the model in training mode\n",
    "    model.train()\n",
    "    return model"
   ]
  },
  {
   "cell_type": "code",
   "execution_count": 14,
   "metadata": {
    "execution": {
     "iopub.execute_input": "2023-06-09T22:44:06.721244Z",
     "iopub.status.busy": "2023-06-09T22:44:06.720799Z",
     "iopub.status.idle": "2023-06-09T22:44:08.350966Z",
     "shell.execute_reply": "2023-06-09T22:44:08.349861Z",
     "shell.execute_reply.started": "2023-06-09T22:44:06.721208Z"
    },
    "id": "IE1qQYjOwGg3"
   },
   "outputs": [
    {
     "data": {
      "text/plain": [
       "FCN(\n",
       "  (backbone): IntermediateLayerGetter(\n",
       "    (conv1): Conv2d(3, 64, kernel_size=(7, 7), stride=(2, 2), padding=(3, 3), bias=False)\n",
       "    (bn1): BatchNorm2d(64, eps=1e-05, momentum=0.1, affine=True, track_running_stats=True)\n",
       "    (relu): ReLU(inplace=True)\n",
       "    (maxpool): MaxPool2d(kernel_size=3, stride=2, padding=1, dilation=1, ceil_mode=False)\n",
       "    (layer1): Sequential(\n",
       "      (0): Bottleneck(\n",
       "        (conv1): Conv2d(64, 64, kernel_size=(1, 1), stride=(1, 1), bias=False)\n",
       "        (bn1): BatchNorm2d(64, eps=1e-05, momentum=0.1, affine=True, track_running_stats=True)\n",
       "        (conv2): Conv2d(64, 64, kernel_size=(3, 3), stride=(1, 1), padding=(1, 1), bias=False)\n",
       "        (bn2): BatchNorm2d(64, eps=1e-05, momentum=0.1, affine=True, track_running_stats=True)\n",
       "        (conv3): Conv2d(64, 256, kernel_size=(1, 1), stride=(1, 1), bias=False)\n",
       "        (bn3): BatchNorm2d(256, eps=1e-05, momentum=0.1, affine=True, track_running_stats=True)\n",
       "        (relu): ReLU(inplace=True)\n",
       "        (downsample): Sequential(\n",
       "          (0): Conv2d(64, 256, kernel_size=(1, 1), stride=(1, 1), bias=False)\n",
       "          (1): BatchNorm2d(256, eps=1e-05, momentum=0.1, affine=True, track_running_stats=True)\n",
       "        )\n",
       "      )\n",
       "      (1): Bottleneck(\n",
       "        (conv1): Conv2d(256, 64, kernel_size=(1, 1), stride=(1, 1), bias=False)\n",
       "        (bn1): BatchNorm2d(64, eps=1e-05, momentum=0.1, affine=True, track_running_stats=True)\n",
       "        (conv2): Conv2d(64, 64, kernel_size=(3, 3), stride=(1, 1), padding=(1, 1), bias=False)\n",
       "        (bn2): BatchNorm2d(64, eps=1e-05, momentum=0.1, affine=True, track_running_stats=True)\n",
       "        (conv3): Conv2d(64, 256, kernel_size=(1, 1), stride=(1, 1), bias=False)\n",
       "        (bn3): BatchNorm2d(256, eps=1e-05, momentum=0.1, affine=True, track_running_stats=True)\n",
       "        (relu): ReLU(inplace=True)\n",
       "      )\n",
       "      (2): Bottleneck(\n",
       "        (conv1): Conv2d(256, 64, kernel_size=(1, 1), stride=(1, 1), bias=False)\n",
       "        (bn1): BatchNorm2d(64, eps=1e-05, momentum=0.1, affine=True, track_running_stats=True)\n",
       "        (conv2): Conv2d(64, 64, kernel_size=(3, 3), stride=(1, 1), padding=(1, 1), bias=False)\n",
       "        (bn2): BatchNorm2d(64, eps=1e-05, momentum=0.1, affine=True, track_running_stats=True)\n",
       "        (conv3): Conv2d(64, 256, kernel_size=(1, 1), stride=(1, 1), bias=False)\n",
       "        (bn3): BatchNorm2d(256, eps=1e-05, momentum=0.1, affine=True, track_running_stats=True)\n",
       "        (relu): ReLU(inplace=True)\n",
       "      )\n",
       "    )\n",
       "    (layer2): Sequential(\n",
       "      (0): Bottleneck(\n",
       "        (conv1): Conv2d(256, 128, kernel_size=(1, 1), stride=(1, 1), bias=False)\n",
       "        (bn1): BatchNorm2d(128, eps=1e-05, momentum=0.1, affine=True, track_running_stats=True)\n",
       "        (conv2): Conv2d(128, 128, kernel_size=(3, 3), stride=(2, 2), padding=(1, 1), bias=False)\n",
       "        (bn2): BatchNorm2d(128, eps=1e-05, momentum=0.1, affine=True, track_running_stats=True)\n",
       "        (conv3): Conv2d(128, 512, kernel_size=(1, 1), stride=(1, 1), bias=False)\n",
       "        (bn3): BatchNorm2d(512, eps=1e-05, momentum=0.1, affine=True, track_running_stats=True)\n",
       "        (relu): ReLU(inplace=True)\n",
       "        (downsample): Sequential(\n",
       "          (0): Conv2d(256, 512, kernel_size=(1, 1), stride=(2, 2), bias=False)\n",
       "          (1): BatchNorm2d(512, eps=1e-05, momentum=0.1, affine=True, track_running_stats=True)\n",
       "        )\n",
       "      )\n",
       "      (1): Bottleneck(\n",
       "        (conv1): Conv2d(512, 128, kernel_size=(1, 1), stride=(1, 1), bias=False)\n",
       "        (bn1): BatchNorm2d(128, eps=1e-05, momentum=0.1, affine=True, track_running_stats=True)\n",
       "        (conv2): Conv2d(128, 128, kernel_size=(3, 3), stride=(1, 1), padding=(1, 1), bias=False)\n",
       "        (bn2): BatchNorm2d(128, eps=1e-05, momentum=0.1, affine=True, track_running_stats=True)\n",
       "        (conv3): Conv2d(128, 512, kernel_size=(1, 1), stride=(1, 1), bias=False)\n",
       "        (bn3): BatchNorm2d(512, eps=1e-05, momentum=0.1, affine=True, track_running_stats=True)\n",
       "        (relu): ReLU(inplace=True)\n",
       "      )\n",
       "      (2): Bottleneck(\n",
       "        (conv1): Conv2d(512, 128, kernel_size=(1, 1), stride=(1, 1), bias=False)\n",
       "        (bn1): BatchNorm2d(128, eps=1e-05, momentum=0.1, affine=True, track_running_stats=True)\n",
       "        (conv2): Conv2d(128, 128, kernel_size=(3, 3), stride=(1, 1), padding=(1, 1), bias=False)\n",
       "        (bn2): BatchNorm2d(128, eps=1e-05, momentum=0.1, affine=True, track_running_stats=True)\n",
       "        (conv3): Conv2d(128, 512, kernel_size=(1, 1), stride=(1, 1), bias=False)\n",
       "        (bn3): BatchNorm2d(512, eps=1e-05, momentum=0.1, affine=True, track_running_stats=True)\n",
       "        (relu): ReLU(inplace=True)\n",
       "      )\n",
       "      (3): Bottleneck(\n",
       "        (conv1): Conv2d(512, 128, kernel_size=(1, 1), stride=(1, 1), bias=False)\n",
       "        (bn1): BatchNorm2d(128, eps=1e-05, momentum=0.1, affine=True, track_running_stats=True)\n",
       "        (conv2): Conv2d(128, 128, kernel_size=(3, 3), stride=(1, 1), padding=(1, 1), bias=False)\n",
       "        (bn2): BatchNorm2d(128, eps=1e-05, momentum=0.1, affine=True, track_running_stats=True)\n",
       "        (conv3): Conv2d(128, 512, kernel_size=(1, 1), stride=(1, 1), bias=False)\n",
       "        (bn3): BatchNorm2d(512, eps=1e-05, momentum=0.1, affine=True, track_running_stats=True)\n",
       "        (relu): ReLU(inplace=True)\n",
       "      )\n",
       "    )\n",
       "    (layer3): Sequential(\n",
       "      (0): Bottleneck(\n",
       "        (conv1): Conv2d(512, 256, kernel_size=(1, 1), stride=(1, 1), bias=False)\n",
       "        (bn1): BatchNorm2d(256, eps=1e-05, momentum=0.1, affine=True, track_running_stats=True)\n",
       "        (conv2): Conv2d(256, 256, kernel_size=(3, 3), stride=(1, 1), padding=(1, 1), bias=False)\n",
       "        (bn2): BatchNorm2d(256, eps=1e-05, momentum=0.1, affine=True, track_running_stats=True)\n",
       "        (conv3): Conv2d(256, 1024, kernel_size=(1, 1), stride=(1, 1), bias=False)\n",
       "        (bn3): BatchNorm2d(1024, eps=1e-05, momentum=0.1, affine=True, track_running_stats=True)\n",
       "        (relu): ReLU(inplace=True)\n",
       "        (downsample): Sequential(\n",
       "          (0): Conv2d(512, 1024, kernel_size=(1, 1), stride=(1, 1), bias=False)\n",
       "          (1): BatchNorm2d(1024, eps=1e-05, momentum=0.1, affine=True, track_running_stats=True)\n",
       "        )\n",
       "      )\n",
       "      (1): Bottleneck(\n",
       "        (conv1): Conv2d(1024, 256, kernel_size=(1, 1), stride=(1, 1), bias=False)\n",
       "        (bn1): BatchNorm2d(256, eps=1e-05, momentum=0.1, affine=True, track_running_stats=True)\n",
       "        (conv2): Conv2d(256, 256, kernel_size=(3, 3), stride=(1, 1), padding=(2, 2), dilation=(2, 2), bias=False)\n",
       "        (bn2): BatchNorm2d(256, eps=1e-05, momentum=0.1, affine=True, track_running_stats=True)\n",
       "        (conv3): Conv2d(256, 1024, kernel_size=(1, 1), stride=(1, 1), bias=False)\n",
       "        (bn3): BatchNorm2d(1024, eps=1e-05, momentum=0.1, affine=True, track_running_stats=True)\n",
       "        (relu): ReLU(inplace=True)\n",
       "      )\n",
       "      (2): Bottleneck(\n",
       "        (conv1): Conv2d(1024, 256, kernel_size=(1, 1), stride=(1, 1), bias=False)\n",
       "        (bn1): BatchNorm2d(256, eps=1e-05, momentum=0.1, affine=True, track_running_stats=True)\n",
       "        (conv2): Conv2d(256, 256, kernel_size=(3, 3), stride=(1, 1), padding=(2, 2), dilation=(2, 2), bias=False)\n",
       "        (bn2): BatchNorm2d(256, eps=1e-05, momentum=0.1, affine=True, track_running_stats=True)\n",
       "        (conv3): Conv2d(256, 1024, kernel_size=(1, 1), stride=(1, 1), bias=False)\n",
       "        (bn3): BatchNorm2d(1024, eps=1e-05, momentum=0.1, affine=True, track_running_stats=True)\n",
       "        (relu): ReLU(inplace=True)\n",
       "      )\n",
       "      (3): Bottleneck(\n",
       "        (conv1): Conv2d(1024, 256, kernel_size=(1, 1), stride=(1, 1), bias=False)\n",
       "        (bn1): BatchNorm2d(256, eps=1e-05, momentum=0.1, affine=True, track_running_stats=True)\n",
       "        (conv2): Conv2d(256, 256, kernel_size=(3, 3), stride=(1, 1), padding=(2, 2), dilation=(2, 2), bias=False)\n",
       "        (bn2): BatchNorm2d(256, eps=1e-05, momentum=0.1, affine=True, track_running_stats=True)\n",
       "        (conv3): Conv2d(256, 1024, kernel_size=(1, 1), stride=(1, 1), bias=False)\n",
       "        (bn3): BatchNorm2d(1024, eps=1e-05, momentum=0.1, affine=True, track_running_stats=True)\n",
       "        (relu): ReLU(inplace=True)\n",
       "      )\n",
       "      (4): Bottleneck(\n",
       "        (conv1): Conv2d(1024, 256, kernel_size=(1, 1), stride=(1, 1), bias=False)\n",
       "        (bn1): BatchNorm2d(256, eps=1e-05, momentum=0.1, affine=True, track_running_stats=True)\n",
       "        (conv2): Conv2d(256, 256, kernel_size=(3, 3), stride=(1, 1), padding=(2, 2), dilation=(2, 2), bias=False)\n",
       "        (bn2): BatchNorm2d(256, eps=1e-05, momentum=0.1, affine=True, track_running_stats=True)\n",
       "        (conv3): Conv2d(256, 1024, kernel_size=(1, 1), stride=(1, 1), bias=False)\n",
       "        (bn3): BatchNorm2d(1024, eps=1e-05, momentum=0.1, affine=True, track_running_stats=True)\n",
       "        (relu): ReLU(inplace=True)\n",
       "      )\n",
       "      (5): Bottleneck(\n",
       "        (conv1): Conv2d(1024, 256, kernel_size=(1, 1), stride=(1, 1), bias=False)\n",
       "        (bn1): BatchNorm2d(256, eps=1e-05, momentum=0.1, affine=True, track_running_stats=True)\n",
       "        (conv2): Conv2d(256, 256, kernel_size=(3, 3), stride=(1, 1), padding=(2, 2), dilation=(2, 2), bias=False)\n",
       "        (bn2): BatchNorm2d(256, eps=1e-05, momentum=0.1, affine=True, track_running_stats=True)\n",
       "        (conv3): Conv2d(256, 1024, kernel_size=(1, 1), stride=(1, 1), bias=False)\n",
       "        (bn3): BatchNorm2d(1024, eps=1e-05, momentum=0.1, affine=True, track_running_stats=True)\n",
       "        (relu): ReLU(inplace=True)\n",
       "      )\n",
       "      (6): Bottleneck(\n",
       "        (conv1): Conv2d(1024, 256, kernel_size=(1, 1), stride=(1, 1), bias=False)\n",
       "        (bn1): BatchNorm2d(256, eps=1e-05, momentum=0.1, affine=True, track_running_stats=True)\n",
       "        (conv2): Conv2d(256, 256, kernel_size=(3, 3), stride=(1, 1), padding=(2, 2), dilation=(2, 2), bias=False)\n",
       "        (bn2): BatchNorm2d(256, eps=1e-05, momentum=0.1, affine=True, track_running_stats=True)\n",
       "        (conv3): Conv2d(256, 1024, kernel_size=(1, 1), stride=(1, 1), bias=False)\n",
       "        (bn3): BatchNorm2d(1024, eps=1e-05, momentum=0.1, affine=True, track_running_stats=True)\n",
       "        (relu): ReLU(inplace=True)\n",
       "      )\n",
       "      (7): Bottleneck(\n",
       "        (conv1): Conv2d(1024, 256, kernel_size=(1, 1), stride=(1, 1), bias=False)\n",
       "        (bn1): BatchNorm2d(256, eps=1e-05, momentum=0.1, affine=True, track_running_stats=True)\n",
       "        (conv2): Conv2d(256, 256, kernel_size=(3, 3), stride=(1, 1), padding=(2, 2), dilation=(2, 2), bias=False)\n",
       "        (bn2): BatchNorm2d(256, eps=1e-05, momentum=0.1, affine=True, track_running_stats=True)\n",
       "        (conv3): Conv2d(256, 1024, kernel_size=(1, 1), stride=(1, 1), bias=False)\n",
       "        (bn3): BatchNorm2d(1024, eps=1e-05, momentum=0.1, affine=True, track_running_stats=True)\n",
       "        (relu): ReLU(inplace=True)\n",
       "      )\n",
       "      (8): Bottleneck(\n",
       "        (conv1): Conv2d(1024, 256, kernel_size=(1, 1), stride=(1, 1), bias=False)\n",
       "        (bn1): BatchNorm2d(256, eps=1e-05, momentum=0.1, affine=True, track_running_stats=True)\n",
       "        (conv2): Conv2d(256, 256, kernel_size=(3, 3), stride=(1, 1), padding=(2, 2), dilation=(2, 2), bias=False)\n",
       "        (bn2): BatchNorm2d(256, eps=1e-05, momentum=0.1, affine=True, track_running_stats=True)\n",
       "        (conv3): Conv2d(256, 1024, kernel_size=(1, 1), stride=(1, 1), bias=False)\n",
       "        (bn3): BatchNorm2d(1024, eps=1e-05, momentum=0.1, affine=True, track_running_stats=True)\n",
       "        (relu): ReLU(inplace=True)\n",
       "      )\n",
       "      (9): Bottleneck(\n",
       "        (conv1): Conv2d(1024, 256, kernel_size=(1, 1), stride=(1, 1), bias=False)\n",
       "        (bn1): BatchNorm2d(256, eps=1e-05, momentum=0.1, affine=True, track_running_stats=True)\n",
       "        (conv2): Conv2d(256, 256, kernel_size=(3, 3), stride=(1, 1), padding=(2, 2), dilation=(2, 2), bias=False)\n",
       "        (bn2): BatchNorm2d(256, eps=1e-05, momentum=0.1, affine=True, track_running_stats=True)\n",
       "        (conv3): Conv2d(256, 1024, kernel_size=(1, 1), stride=(1, 1), bias=False)\n",
       "        (bn3): BatchNorm2d(1024, eps=1e-05, momentum=0.1, affine=True, track_running_stats=True)\n",
       "        (relu): ReLU(inplace=True)\n",
       "      )\n",
       "      (10): Bottleneck(\n",
       "        (conv1): Conv2d(1024, 256, kernel_size=(1, 1), stride=(1, 1), bias=False)\n",
       "        (bn1): BatchNorm2d(256, eps=1e-05, momentum=0.1, affine=True, track_running_stats=True)\n",
       "        (conv2): Conv2d(256, 256, kernel_size=(3, 3), stride=(1, 1), padding=(2, 2), dilation=(2, 2), bias=False)\n",
       "        (bn2): BatchNorm2d(256, eps=1e-05, momentum=0.1, affine=True, track_running_stats=True)\n",
       "        (conv3): Conv2d(256, 1024, kernel_size=(1, 1), stride=(1, 1), bias=False)\n",
       "        (bn3): BatchNorm2d(1024, eps=1e-05, momentum=0.1, affine=True, track_running_stats=True)\n",
       "        (relu): ReLU(inplace=True)\n",
       "      )\n",
       "      (11): Bottleneck(\n",
       "        (conv1): Conv2d(1024, 256, kernel_size=(1, 1), stride=(1, 1), bias=False)\n",
       "        (bn1): BatchNorm2d(256, eps=1e-05, momentum=0.1, affine=True, track_running_stats=True)\n",
       "        (conv2): Conv2d(256, 256, kernel_size=(3, 3), stride=(1, 1), padding=(2, 2), dilation=(2, 2), bias=False)\n",
       "        (bn2): BatchNorm2d(256, eps=1e-05, momentum=0.1, affine=True, track_running_stats=True)\n",
       "        (conv3): Conv2d(256, 1024, kernel_size=(1, 1), stride=(1, 1), bias=False)\n",
       "        (bn3): BatchNorm2d(1024, eps=1e-05, momentum=0.1, affine=True, track_running_stats=True)\n",
       "        (relu): ReLU(inplace=True)\n",
       "      )\n",
       "      (12): Bottleneck(\n",
       "        (conv1): Conv2d(1024, 256, kernel_size=(1, 1), stride=(1, 1), bias=False)\n",
       "        (bn1): BatchNorm2d(256, eps=1e-05, momentum=0.1, affine=True, track_running_stats=True)\n",
       "        (conv2): Conv2d(256, 256, kernel_size=(3, 3), stride=(1, 1), padding=(2, 2), dilation=(2, 2), bias=False)\n",
       "        (bn2): BatchNorm2d(256, eps=1e-05, momentum=0.1, affine=True, track_running_stats=True)\n",
       "        (conv3): Conv2d(256, 1024, kernel_size=(1, 1), stride=(1, 1), bias=False)\n",
       "        (bn3): BatchNorm2d(1024, eps=1e-05, momentum=0.1, affine=True, track_running_stats=True)\n",
       "        (relu): ReLU(inplace=True)\n",
       "      )\n",
       "      (13): Bottleneck(\n",
       "        (conv1): Conv2d(1024, 256, kernel_size=(1, 1), stride=(1, 1), bias=False)\n",
       "        (bn1): BatchNorm2d(256, eps=1e-05, momentum=0.1, affine=True, track_running_stats=True)\n",
       "        (conv2): Conv2d(256, 256, kernel_size=(3, 3), stride=(1, 1), padding=(2, 2), dilation=(2, 2), bias=False)\n",
       "        (bn2): BatchNorm2d(256, eps=1e-05, momentum=0.1, affine=True, track_running_stats=True)\n",
       "        (conv3): Conv2d(256, 1024, kernel_size=(1, 1), stride=(1, 1), bias=False)\n",
       "        (bn3): BatchNorm2d(1024, eps=1e-05, momentum=0.1, affine=True, track_running_stats=True)\n",
       "        (relu): ReLU(inplace=True)\n",
       "      )\n",
       "      (14): Bottleneck(\n",
       "        (conv1): Conv2d(1024, 256, kernel_size=(1, 1), stride=(1, 1), bias=False)\n",
       "        (bn1): BatchNorm2d(256, eps=1e-05, momentum=0.1, affine=True, track_running_stats=True)\n",
       "        (conv2): Conv2d(256, 256, kernel_size=(3, 3), stride=(1, 1), padding=(2, 2), dilation=(2, 2), bias=False)\n",
       "        (bn2): BatchNorm2d(256, eps=1e-05, momentum=0.1, affine=True, track_running_stats=True)\n",
       "        (conv3): Conv2d(256, 1024, kernel_size=(1, 1), stride=(1, 1), bias=False)\n",
       "        (bn3): BatchNorm2d(1024, eps=1e-05, momentum=0.1, affine=True, track_running_stats=True)\n",
       "        (relu): ReLU(inplace=True)\n",
       "      )\n",
       "      (15): Bottleneck(\n",
       "        (conv1): Conv2d(1024, 256, kernel_size=(1, 1), stride=(1, 1), bias=False)\n",
       "        (bn1): BatchNorm2d(256, eps=1e-05, momentum=0.1, affine=True, track_running_stats=True)\n",
       "        (conv2): Conv2d(256, 256, kernel_size=(3, 3), stride=(1, 1), padding=(2, 2), dilation=(2, 2), bias=False)\n",
       "        (bn2): BatchNorm2d(256, eps=1e-05, momentum=0.1, affine=True, track_running_stats=True)\n",
       "        (conv3): Conv2d(256, 1024, kernel_size=(1, 1), stride=(1, 1), bias=False)\n",
       "        (bn3): BatchNorm2d(1024, eps=1e-05, momentum=0.1, affine=True, track_running_stats=True)\n",
       "        (relu): ReLU(inplace=True)\n",
       "      )\n",
       "      (16): Bottleneck(\n",
       "        (conv1): Conv2d(1024, 256, kernel_size=(1, 1), stride=(1, 1), bias=False)\n",
       "        (bn1): BatchNorm2d(256, eps=1e-05, momentum=0.1, affine=True, track_running_stats=True)\n",
       "        (conv2): Conv2d(256, 256, kernel_size=(3, 3), stride=(1, 1), padding=(2, 2), dilation=(2, 2), bias=False)\n",
       "        (bn2): BatchNorm2d(256, eps=1e-05, momentum=0.1, affine=True, track_running_stats=True)\n",
       "        (conv3): Conv2d(256, 1024, kernel_size=(1, 1), stride=(1, 1), bias=False)\n",
       "        (bn3): BatchNorm2d(1024, eps=1e-05, momentum=0.1, affine=True, track_running_stats=True)\n",
       "        (relu): ReLU(inplace=True)\n",
       "      )\n",
       "      (17): Bottleneck(\n",
       "        (conv1): Conv2d(1024, 256, kernel_size=(1, 1), stride=(1, 1), bias=False)\n",
       "        (bn1): BatchNorm2d(256, eps=1e-05, momentum=0.1, affine=True, track_running_stats=True)\n",
       "        (conv2): Conv2d(256, 256, kernel_size=(3, 3), stride=(1, 1), padding=(2, 2), dilation=(2, 2), bias=False)\n",
       "        (bn2): BatchNorm2d(256, eps=1e-05, momentum=0.1, affine=True, track_running_stats=True)\n",
       "        (conv3): Conv2d(256, 1024, kernel_size=(1, 1), stride=(1, 1), bias=False)\n",
       "        (bn3): BatchNorm2d(1024, eps=1e-05, momentum=0.1, affine=True, track_running_stats=True)\n",
       "        (relu): ReLU(inplace=True)\n",
       "      )\n",
       "      (18): Bottleneck(\n",
       "        (conv1): Conv2d(1024, 256, kernel_size=(1, 1), stride=(1, 1), bias=False)\n",
       "        (bn1): BatchNorm2d(256, eps=1e-05, momentum=0.1, affine=True, track_running_stats=True)\n",
       "        (conv2): Conv2d(256, 256, kernel_size=(3, 3), stride=(1, 1), padding=(2, 2), dilation=(2, 2), bias=False)\n",
       "        (bn2): BatchNorm2d(256, eps=1e-05, momentum=0.1, affine=True, track_running_stats=True)\n",
       "        (conv3): Conv2d(256, 1024, kernel_size=(1, 1), stride=(1, 1), bias=False)\n",
       "        (bn3): BatchNorm2d(1024, eps=1e-05, momentum=0.1, affine=True, track_running_stats=True)\n",
       "        (relu): ReLU(inplace=True)\n",
       "      )\n",
       "      (19): Bottleneck(\n",
       "        (conv1): Conv2d(1024, 256, kernel_size=(1, 1), stride=(1, 1), bias=False)\n",
       "        (bn1): BatchNorm2d(256, eps=1e-05, momentum=0.1, affine=True, track_running_stats=True)\n",
       "        (conv2): Conv2d(256, 256, kernel_size=(3, 3), stride=(1, 1), padding=(2, 2), dilation=(2, 2), bias=False)\n",
       "        (bn2): BatchNorm2d(256, eps=1e-05, momentum=0.1, affine=True, track_running_stats=True)\n",
       "        (conv3): Conv2d(256, 1024, kernel_size=(1, 1), stride=(1, 1), bias=False)\n",
       "        (bn3): BatchNorm2d(1024, eps=1e-05, momentum=0.1, affine=True, track_running_stats=True)\n",
       "        (relu): ReLU(inplace=True)\n",
       "      )\n",
       "      (20): Bottleneck(\n",
       "        (conv1): Conv2d(1024, 256, kernel_size=(1, 1), stride=(1, 1), bias=False)\n",
       "        (bn1): BatchNorm2d(256, eps=1e-05, momentum=0.1, affine=True, track_running_stats=True)\n",
       "        (conv2): Conv2d(256, 256, kernel_size=(3, 3), stride=(1, 1), padding=(2, 2), dilation=(2, 2), bias=False)\n",
       "        (bn2): BatchNorm2d(256, eps=1e-05, momentum=0.1, affine=True, track_running_stats=True)\n",
       "        (conv3): Conv2d(256, 1024, kernel_size=(1, 1), stride=(1, 1), bias=False)\n",
       "        (bn3): BatchNorm2d(1024, eps=1e-05, momentum=0.1, affine=True, track_running_stats=True)\n",
       "        (relu): ReLU(inplace=True)\n",
       "      )\n",
       "      (21): Bottleneck(\n",
       "        (conv1): Conv2d(1024, 256, kernel_size=(1, 1), stride=(1, 1), bias=False)\n",
       "        (bn1): BatchNorm2d(256, eps=1e-05, momentum=0.1, affine=True, track_running_stats=True)\n",
       "        (conv2): Conv2d(256, 256, kernel_size=(3, 3), stride=(1, 1), padding=(2, 2), dilation=(2, 2), bias=False)\n",
       "        (bn2): BatchNorm2d(256, eps=1e-05, momentum=0.1, affine=True, track_running_stats=True)\n",
       "        (conv3): Conv2d(256, 1024, kernel_size=(1, 1), stride=(1, 1), bias=False)\n",
       "        (bn3): BatchNorm2d(1024, eps=1e-05, momentum=0.1, affine=True, track_running_stats=True)\n",
       "        (relu): ReLU(inplace=True)\n",
       "      )\n",
       "      (22): Bottleneck(\n",
       "        (conv1): Conv2d(1024, 256, kernel_size=(1, 1), stride=(1, 1), bias=False)\n",
       "        (bn1): BatchNorm2d(256, eps=1e-05, momentum=0.1, affine=True, track_running_stats=True)\n",
       "        (conv2): Conv2d(256, 256, kernel_size=(3, 3), stride=(1, 1), padding=(2, 2), dilation=(2, 2), bias=False)\n",
       "        (bn2): BatchNorm2d(256, eps=1e-05, momentum=0.1, affine=True, track_running_stats=True)\n",
       "        (conv3): Conv2d(256, 1024, kernel_size=(1, 1), stride=(1, 1), bias=False)\n",
       "        (bn3): BatchNorm2d(1024, eps=1e-05, momentum=0.1, affine=True, track_running_stats=True)\n",
       "        (relu): ReLU(inplace=True)\n",
       "      )\n",
       "    )\n",
       "    (layer4): Sequential(\n",
       "      (0): Bottleneck(\n",
       "        (conv1): Conv2d(1024, 512, kernel_size=(1, 1), stride=(1, 1), bias=False)\n",
       "        (bn1): BatchNorm2d(512, eps=1e-05, momentum=0.1, affine=True, track_running_stats=True)\n",
       "        (conv2): Conv2d(512, 512, kernel_size=(3, 3), stride=(1, 1), padding=(2, 2), dilation=(2, 2), bias=False)\n",
       "        (bn2): BatchNorm2d(512, eps=1e-05, momentum=0.1, affine=True, track_running_stats=True)\n",
       "        (conv3): Conv2d(512, 2048, kernel_size=(1, 1), stride=(1, 1), bias=False)\n",
       "        (bn3): BatchNorm2d(2048, eps=1e-05, momentum=0.1, affine=True, track_running_stats=True)\n",
       "        (relu): ReLU(inplace=True)\n",
       "        (downsample): Sequential(\n",
       "          (0): Conv2d(1024, 2048, kernel_size=(1, 1), stride=(1, 1), bias=False)\n",
       "          (1): BatchNorm2d(2048, eps=1e-05, momentum=0.1, affine=True, track_running_stats=True)\n",
       "        )\n",
       "      )\n",
       "      (1): Bottleneck(\n",
       "        (conv1): Conv2d(2048, 512, kernel_size=(1, 1), stride=(1, 1), bias=False)\n",
       "        (bn1): BatchNorm2d(512, eps=1e-05, momentum=0.1, affine=True, track_running_stats=True)\n",
       "        (conv2): Conv2d(512, 512, kernel_size=(3, 3), stride=(1, 1), padding=(4, 4), dilation=(4, 4), bias=False)\n",
       "        (bn2): BatchNorm2d(512, eps=1e-05, momentum=0.1, affine=True, track_running_stats=True)\n",
       "        (conv3): Conv2d(512, 2048, kernel_size=(1, 1), stride=(1, 1), bias=False)\n",
       "        (bn3): BatchNorm2d(2048, eps=1e-05, momentum=0.1, affine=True, track_running_stats=True)\n",
       "        (relu): ReLU(inplace=True)\n",
       "      )\n",
       "      (2): Bottleneck(\n",
       "        (conv1): Conv2d(2048, 512, kernel_size=(1, 1), stride=(1, 1), bias=False)\n",
       "        (bn1): BatchNorm2d(512, eps=1e-05, momentum=0.1, affine=True, track_running_stats=True)\n",
       "        (conv2): Conv2d(512, 512, kernel_size=(3, 3), stride=(1, 1), padding=(4, 4), dilation=(4, 4), bias=False)\n",
       "        (bn2): BatchNorm2d(512, eps=1e-05, momentum=0.1, affine=True, track_running_stats=True)\n",
       "        (conv3): Conv2d(512, 2048, kernel_size=(1, 1), stride=(1, 1), bias=False)\n",
       "        (bn3): BatchNorm2d(2048, eps=1e-05, momentum=0.1, affine=True, track_running_stats=True)\n",
       "        (relu): ReLU(inplace=True)\n",
       "      )\n",
       "    )\n",
       "  )\n",
       "  (classifier): FCNHead(\n",
       "    (0): Conv2d(2048, 512, kernel_size=(3, 3), stride=(1, 1), padding=(1, 1), bias=False)\n",
       "    (1): BatchNorm2d(512, eps=1e-05, momentum=0.1, affine=True, track_running_stats=True)\n",
       "    (2): ReLU()\n",
       "    (3): Dropout(p=0.1, inplace=False)\n",
       "    (4): Conv2d(512, 1, kernel_size=(1, 1), stride=(1, 1))\n",
       "  )\n",
       "  (aux_classifier): FCNHead(\n",
       "    (0): Conv2d(1024, 256, kernel_size=(3, 3), stride=(1, 1), padding=(1, 1), bias=False)\n",
       "    (1): BatchNorm2d(256, eps=1e-05, momentum=0.1, affine=True, track_running_stats=True)\n",
       "    (2): ReLU()\n",
       "    (3): Dropout(p=0.1, inplace=False)\n",
       "    (4): Conv2d(256, 21, kernel_size=(1, 1), stride=(1, 1))\n",
       "  )\n",
       ")"
      ]
     },
     "execution_count": 14,
     "metadata": {},
     "output_type": "execute_result"
    }
   ],
   "source": [
    "# Create the deeplabv3 resnet101 model which is pretrained on a subset\n",
    "# of COCO train2017, on the 20 categories that are present in the Pascal VOC dataset.\n",
    "model = createFCN()\n",
    "model.train()"
   ]
  },
  {
   "cell_type": "code",
   "execution_count": 15,
   "metadata": {
    "execution": {
     "iopub.execute_input": "2023-06-09T22:44:08.354311Z",
     "iopub.status.busy": "2023-06-09T22:44:08.353947Z",
     "iopub.status.idle": "2023-06-09T22:44:08.408924Z",
     "shell.execute_reply": "2023-06-09T22:44:08.407197Z",
     "shell.execute_reply.started": "2023-06-09T22:44:08.354279Z"
    }
   },
   "outputs": [],
   "source": [
    "from pathlib import Path\n",
    "\n",
    "from torch.utils.data import DataLoader\n",
    "from torchvision import transforms\n",
    "\n",
    "from segdataset import SegmentationDataset\n",
    "import multiprocessing\n",
    "pool = multiprocessing.Pool()\n",
    "\n",
    "\n",
    "def get_dataloader_sep_folder(data_dir: str,\n",
    "                              image_folder: str = 'Image',\n",
    "                              mask_folder: str = 'Mask',\n",
    "                              batch_size: int = 4):\n",
    "    \"\"\" Create Train and Test dataloaders from two\n",
    "        separate Train and Test folders.\n",
    "        The directory structure should be as follows.\n",
    "        data_dir\n",
    "        --Train\n",
    "        ------Image\n",
    "        ---------Image1\n",
    "        ---------ImageN\n",
    "        ------Mask\n",
    "        ---------Mask1\n",
    "        ---------MaskN\n",
    "        --Test\n",
    "        ------Image\n",
    "        ---------Image1\n",
    "        ---------ImageM\n",
    "        ------Mask\n",
    "        ---------Mask1\n",
    "        ---------MaskM\n",
    "\n",
    "    Args:\n",
    "        data_dir (str): The data directory or root.\n",
    "        image_folder (str, optional): Image folder name. Defaults to 'Image'.\n",
    "        mask_folder (str, optional): Mask folder name. Defaults to 'Mask'.\n",
    "        batch_size (int, optional): Batch size of the dataloader. Defaults to 4.\n",
    "\n",
    "    Returns:\n",
    "        dataloaders: Returns dataloaders dictionary containing the\n",
    "        Train and Test dataloaders.\n",
    "    \"\"\"\n",
    "    data_transforms = transforms.Compose([transforms.ToTensor()])\n",
    "\n",
    "    image_datasets = {\n",
    "        x: SegmentationDataset(root=Path(data_dir) / x,\n",
    "                               transforms=data_transforms,\n",
    "                               image_folder=image_folder,\n",
    "                               mask_folder=mask_folder)\n",
    "        for x in ['Train', 'Test']\n",
    "    }\n",
    "    dataloaders = {\n",
    "        x: DataLoader(image_datasets[x],\n",
    "                      batch_size=batch_size,\n",
    "                      shuffle=True,\n",
    "                      num_workers=pool._processes)\n",
    "        for x in ['Train', 'Test']\n",
    "    }\n",
    "    return dataloaders\n",
    "\n",
    "\n",
    "def get_dataloader_single_folder(data_dir: str,\n",
    "                                 image_folder: str = 'Images',\n",
    "                                 mask_folder: str = 'Masks',\n",
    "                                 fraction: float = 0.2,\n",
    "                                 batch_size: int = 4):\n",
    "    \"\"\"Create train and test dataloader from a single directory containing\n",
    "    the image and mask folders.\n",
    "\n",
    "    Args:\n",
    "        data_dir (str): Data directory path or root\n",
    "        image_folder (str, optional): Image folder name. Defaults to 'Images'.\n",
    "        mask_folder (str, optional): Mask folder name. Defaults to 'Masks'.\n",
    "        fraction (float, optional): Fraction of Test set. Defaults to 0.2.\n",
    "        batch_size (int, optional): Dataloader batch size. Defaults to 4.\n",
    "\n",
    "    Returns:\n",
    "        dataloaders: Returns dataloaders dictionary containing the\n",
    "        Train and Test dataloaders.\n",
    "    \"\"\"\n",
    "    data_transforms = transforms.Compose([transforms.ToTensor()])\n",
    "\n",
    "    image_datasets = {\n",
    "        x: SegmentationDataset(data_dir,\n",
    "                               image_folder=image_folder,\n",
    "                               mask_folder=mask_folder,\n",
    "                               seed=100,\n",
    "                               fraction=fraction,\n",
    "                               subset=x,\n",
    "                               transforms=data_transforms)\n",
    "        for x in ['Train', 'Test']\n",
    "    }\n",
    "    dataloaders = {\n",
    "        x: DataLoader(image_datasets[x],\n",
    "                      batch_size=batch_size,\n",
    "                      shuffle=True,\n",
    "                      num_workers=pool._processes)\n",
    "        for x in ['Train', 'Test']\n",
    "    }\n",
    "    return dataloaders"
   ]
  },
  {
   "cell_type": "code",
   "execution_count": 16,
   "metadata": {
    "execution": {
     "iopub.execute_input": "2023-06-09T22:44:08.415693Z",
     "iopub.status.busy": "2023-06-09T22:44:08.415344Z",
     "iopub.status.idle": "2023-06-09T22:44:08.421234Z",
     "shell.execute_reply": "2023-06-09T22:44:08.420276Z",
     "shell.execute_reply.started": "2023-06-09T22:44:08.415662Z"
    }
   },
   "outputs": [],
   "source": [
    "datahandler.get_dataloader_single_folder = get_dataloader_single_folder"
   ]
  },
  {
   "cell_type": "code",
   "execution_count": 17,
   "metadata": {
    "execution": {
     "iopub.execute_input": "2023-06-09T22:44:08.423882Z",
     "iopub.status.busy": "2023-06-09T22:44:08.423114Z",
     "iopub.status.idle": "2023-06-09T22:58:27.519534Z",
     "shell.execute_reply": "2023-06-09T22:58:27.518281Z",
     "shell.execute_reply.started": "2023-06-09T22:44:08.423776Z"
    },
    "id": "36mJmWfrwHiu"
   },
   "outputs": [
    {
     "name": "stdout",
     "output_type": "stream",
     "text": [
      "Epoch 1/1\n",
      "----------\n"
     ]
    },
    {
     "name": "stderr",
     "output_type": "stream",
     "text": [
      "100%|██████████| 427/427 [12:27<00:00,  1.75s/it]\n"
     ]
    },
    {
     "name": "stdout",
     "output_type": "stream",
     "text": [
      "Train Loss: 0.0226\n"
     ]
    },
    {
     "name": "stderr",
     "output_type": "stream",
     "text": [
      "100%|██████████| 107/107 [01:48<00:00,  1.01s/it]"
     ]
    },
    {
     "name": "stdout",
     "output_type": "stream",
     "text": [
      "Test Loss: 0.0348\n",
      "{'epoch': 1, 'Train_loss': 0.02255360223352909, 'Test_loss': 0.03481149673461914, 'Train_f1_score': 0.46708342693364446, 'Train_auroc': 0.9499353387294092, 'Test_f1_score': 0.6040093912827006, 'Test_auroc': 0.976520466916101}\n",
      "Training complete in 14m 19s\n",
      "Lowest Loss: 0.034811\n"
     ]
    },
    {
     "name": "stderr",
     "output_type": "stream",
     "text": [
      "\n"
     ]
    }
   ],
   "source": [
    "data_directory = Path(\"Train\")\n",
    "# Create the experiment directory if not present\n",
    "exp_directory = Path(\"DemoExp\")\n",
    "if not exp_directory.exists():\n",
    "    exp_directory.mkdir()\n",
    "\n",
    "epochs = 20\n",
    "\n",
    "# Specify the evaluation metrics\n",
    "metrics = {'f1_score': f1_score, 'auroc': roc_auc_score}\n",
    "\n",
    "# Create the dataloader\n",
    "dataloaders = datahandler.get_dataloader_single_folder(\n",
    "    data_directory, fraction=0.2, image_folder=\"Images\", \n",
    "    mask_folder=\"Masks\", batch_size=4)\n",
    "\n",
    "\n",
    "\n",
    "# Specify the loss function\n",
    "criterion = torch.nn.MSELoss(reduction='mean')\n",
    "\n",
    "# Specify the optimizer with a lower learning rate\n",
    "optimizer = torch.optim.Adam(model.parameters(), lr=1e-4)\n",
    "_ = train_model(model, \n",
    "                criterion,\n",
    "                dataloaders,\n",
    "                optimizer,\n",
    "                bpath=exp_directory,\n",
    "                metrics=metrics,\n",
    "                num_epochs=epochs)\n"
   ]
  },
  {
   "cell_type": "code",
   "execution_count": 18,
   "metadata": {
    "execution": {
     "iopub.execute_input": "2023-06-09T22:58:27.522780Z",
     "iopub.status.busy": "2023-06-09T22:58:27.521955Z",
     "iopub.status.idle": "2023-06-09T22:58:28.157486Z",
     "shell.execute_reply": "2023-06-09T22:58:28.156462Z",
     "shell.execute_reply.started": "2023-06-09T22:58:27.522741Z"
    },
    "id": "E0_cEwS_wP7P"
   },
   "outputs": [
    {
     "name": "stdout",
     "output_type": "stream",
     "text": [
      "/kaggle/working\n"
     ]
    }
   ],
   "source": [
    "\n",
    "# Save the trained model\n",
    "torch.save(model, exp_directory / 'weights.pt')\n",
    "\n",
    "# Terminate\n",
    "exit()\n",
    "%cd ../\n"
   ]
  },
  {
   "cell_type": "code",
   "execution_count": 19,
   "metadata": {
    "execution": {
     "iopub.execute_input": "2023-06-09T22:58:28.159595Z",
     "iopub.status.busy": "2023-06-09T22:58:28.158782Z",
     "iopub.status.idle": "2023-06-09T22:58:28.163875Z",
     "shell.execute_reply": "2023-06-09T22:58:28.162995Z",
     "shell.execute_reply.started": "2023-06-09T22:58:28.159563Z"
    },
    "id": "sba8VNgMwQ3f"
   },
   "outputs": [],
   "source": [
    "## 2. Making the submission\n",
    "#### Unpack the testset\n",
    "# !unzip -q Test.zip"
   ]
  },
  {
   "cell_type": "code",
   "execution_count": 20,
   "metadata": {
    "execution": {
     "iopub.execute_input": "2023-06-09T22:58:28.166140Z",
     "iopub.status.busy": "2023-06-09T22:58:28.165193Z",
     "iopub.status.idle": "2023-06-09T22:58:29.154083Z",
     "shell.execute_reply": "2023-06-09T22:58:29.152849Z",
     "shell.execute_reply.started": "2023-06-09T22:58:28.166109Z"
    }
   },
   "outputs": [
    {
     "name": "stdout",
     "output_type": "stream",
     "text": [
      "DeepLabv3FineTuning\t\t    Train.zip\n",
      "SampleSubmission.csv\t\t    __notebook__.ipynb\n",
      "SlidinVideos_StarterNotebook.ipynb  __notebook_source__.ipynb\n",
      "Test\t\t\t\t    __output__.json\n",
      "Test.zip\t\t\t    __results__.html\n",
      "Train.csv\t\t\t    custom.css\n"
     ]
    }
   ],
   "source": [
    "!ls"
   ]
  },
  {
   "cell_type": "code",
   "execution_count": 21,
   "metadata": {
    "execution": {
     "iopub.execute_input": "2023-06-09T22:58:29.156582Z",
     "iopub.status.busy": "2023-06-09T22:58:29.155927Z",
     "iopub.status.idle": "2023-06-09T22:58:29.163299Z",
     "shell.execute_reply": "2023-06-09T22:58:29.162412Z",
     "shell.execute_reply.started": "2023-06-09T22:58:29.156540Z"
    }
   },
   "outputs": [],
   "source": [
    "# !mkdir Test\n",
    "# !mv Images/ Test/"
   ]
  },
  {
   "cell_type": "code",
   "execution_count": 22,
   "metadata": {
    "execution": {
     "iopub.execute_input": "2023-06-09T22:58:29.165449Z",
     "iopub.status.busy": "2023-06-09T22:58:29.165097Z",
     "iopub.status.idle": "2023-06-09T22:58:32.265864Z",
     "shell.execute_reply": "2023-06-09T22:58:32.264755Z",
     "shell.execute_reply.started": "2023-06-09T22:58:29.165418Z"
    },
    "id": "xGRe2fN0wVFN"
   },
   "outputs": [],
   "source": [
    "#### Load finetuned deeplab model and define helper functions\n",
    "\n",
    "import glob\n",
    "import os\n",
    "import json\n",
    "import cv2    \n",
    "import torch\n",
    "import numpy as np\n",
    "import pandas as pd\n",
    "\n",
    "from torchvision import transforms  \n",
    "from PIL import Image\n",
    "\n",
    "deeplab_width = 768\n",
    "deeplab_height = 432\n",
    "deeplab = torch.load('DeepLabv3FineTuning/DemoExp/weights.pt')\n",
    "deeplab.eval()\n",
    "     \n",
    "\n",
    "def boxify(out, boxes):\n",
    "    return [ torch.mean(out[b[0]:b[1], b[2]:b[3]]).item()  for b in boxes ]      \n",
    "\n",
    "def titlesegment(image, boxes):\n",
    "    # Resize the frame to the training input size\n",
    "    inputs = transforms.ToTensor()(Image.fromarray(image, mode=\"RGB\"))\n",
    "    inputs = inputs.reshape(1, *inputs.shape).to('cuda')\n",
    "    \n",
    "    with torch.set_grad_enabled(False):\n",
    "        outputs = deeplab(inputs)\n",
    "        out = outputs['out'][0][0]\n",
    "        box_scores = boxify(out, boxes)\n",
    "        return out, np.array(box_scores)\n",
    "    \n",
    "def occupation(boxes):\n",
    "    area = lambda b: (b[1]-b[0]) * (b[3]-b[2])\n",
    "    y1, y2 = min([b[0] for b in boxes ]), max([b[1] for b in boxes ])\n",
    "    x1, x2 = min([b[2] for b in boxes ]), max([b[3] for b in boxes ])\n",
    "    return 1.0 * sum([ area(b) for b in boxes ]) / area([y1, y2, x1, x2])\n",
    "\n",
    "# Locates a paragraph of text with the highest probability \n",
    "# to be a slide title \n",
    "def pickonetitle(boxes, scores):\n",
    "    if len(boxes) == 0:\n",
    "        return []\n",
    "        \n",
    "    best_idx = np.argmax(scores)\n",
    "    best = boxes[best_idx]\n",
    "\n",
    "    candidates = { i for i, box in enumerate(boxes) \n",
    "        if abs(box['fontsize']-best['fontsize']) <= best['fontsize'] * 0.25 \n",
    "            and scores[best_idx] - scores[i] < 0.6 }\n",
    "    \n",
    "    while occupation([ boxes[i]['bbox'] for i in candidates ]) < 0.75:\n",
    "        combinations = [ candidates - {j} for j in candidates if j != best_idx ]\n",
    "        candidates = max(combinations, \n",
    "            key=lambda comb: occupation([ boxes[j]['bbox'] for j in comb ]))\n",
    "            \n",
    "    title_boxes = [ boxes[i] for i in candidates ]\n",
    "    return title_boxes    \n",
    "\n",
    "#### Now, we're going to use EasyOCR package to \"read\" the titles. Modern OCR solutions may still produce a handful of errors, which is why you're encouraged to apply a language model or alternative OCR model to fix possible misspelings. \n",
    "\n",
    "from shapely.geometry import Polygon, LineString\n",
    "\n",
    "import easyocr\n",
    "reader = easyocr.Reader(['en']) \n",
    "\n",
    "def sameline(a, b):\n",
    "    return ((min(a['bbox'][1], b['bbox'][1]) - max(a['bbox'][0], b['bbox'][0]))\n",
    "            / min(a['height'], b['height'])) >= 0.8\n",
    "            \n",
    "def isbelow(a, b):\n",
    "    return not sameline(a, b) and a['bbox'][0] > b['bbox'][0]  \n",
    "    \n",
    "def isright(a, b):\n",
    "    return sameline(a, b) and a['bbox'][2] > b['bbox'][2]  \n",
    "\n",
    "def sort_boxes(boxes):              \n",
    "    boxes_ = []\n",
    "    for b in boxes:\n",
    "        i = 0\n",
    "        while i < len(boxes_) and (isbelow(b, boxes_[i]) or isright(b, boxes_[i])):\n",
    "            i += 1\n",
    "        boxes_.insert(i, b)\n",
    "    return boxes_\n",
    "\n",
    "def _norm_bbox(bbox):\n",
    "    return  [ int(max(0, min([ p[1] for p in bbox ]))), \n",
    "              int(max([ p[1] for p in bbox ])), \n",
    "              int(max(0, min([ p[0] for p in bbox ]))), \n",
    "              int(max([ p[0] for p in bbox ])) ]\n",
    "\n",
    "def process_ocr(ocr_results):\n",
    "    items = []\n",
    "    for bbox, text, conf in ocr_results:\n",
    "        if text == '' or conf <= 0:\n",
    "            continue  \n",
    "        if not isinstance(bbox, list):\n",
    "            bbox = bbox.tolist()\n",
    "        item = {}\n",
    "        item['width'] = LineString(bbox[0:2]).length\n",
    "        item['height'] = LineString(bbox[1:3]).length\n",
    "        item['area'] = item['width'] * item['height']\n",
    "        item['fontsize'] = 1.0 * item['width'] / len(text)\n",
    "        item['bbox'] = _norm_bbox(bbox)            \n",
    "        item['text'] = text\n",
    "        item['conf'] = float(conf)\n",
    "        items.append(item)\n",
    "    return items     \n",
    "\n",
    "def read_text(img):\n",
    "    return process_ocr(reader.readtext(img))\n",
    "\n",
    "### Data exploration\n",
    "#### First, we will pick some random test slide and will extract any instance of text on it\n",
    "\n",
    "from IPython.display import display, JSON, Image as IImage\n",
    "\n",
    "def draw_boxes(frame, boxes):\n",
    "    for box in boxes:\n",
    "        frame = cv2.rectangle(frame, (box[2], box[0]), (box[3], box[1]), (36,255,12), 2)\n",
    "    return frame"
   ]
  },
  {
   "cell_type": "code",
   "execution_count": 23,
   "metadata": {
    "execution": {
     "iopub.execute_input": "2023-06-09T22:58:32.268407Z",
     "iopub.status.busy": "2023-06-09T22:58:32.267481Z",
     "iopub.status.idle": "2023-06-09T22:58:33.258490Z",
     "shell.execute_reply": "2023-06-09T22:58:33.257270Z",
     "shell.execute_reply.started": "2023-06-09T22:58:32.268350Z"
    }
   },
   "outputs": [
    {
     "name": "stdout",
     "output_type": "stream",
     "text": [
      "Test/Images/Id_76dbm25833.jpg\n"
     ]
    }
   ],
   "source": [
    "!ls Test/Images/*33.jpg"
   ]
  },
  {
   "cell_type": "code",
   "execution_count": 24,
   "metadata": {
    "execution": {
     "iopub.execute_input": "2023-06-09T22:58:33.261067Z",
     "iopub.status.busy": "2023-06-09T22:58:33.260301Z",
     "iopub.status.idle": "2023-06-09T22:58:34.324677Z",
     "shell.execute_reply": "2023-06-09T22:58:34.323457Z",
     "shell.execute_reply.started": "2023-06-09T22:58:33.261026Z"
    }
   },
   "outputs": [
    {
     "name": "stdout",
     "output_type": "stream",
     "text": [
      "290\n"
     ]
    }
   ],
   "source": [
    "!ls Test/Images/*.jpg | wc -l"
   ]
  },
  {
   "cell_type": "code",
   "execution_count": 25,
   "metadata": {
    "execution": {
     "iopub.execute_input": "2023-06-09T22:58:34.327133Z",
     "iopub.status.busy": "2023-06-09T22:58:34.326768Z",
     "iopub.status.idle": "2023-06-09T22:58:34.333429Z",
     "shell.execute_reply": "2023-06-09T22:58:34.332333Z",
     "shell.execute_reply.started": "2023-06-09T22:58:34.327094Z"
    }
   },
   "outputs": [],
   "source": [
    "# !ls Test/Images/*.jpg | head -n 5"
   ]
  },
  {
   "cell_type": "code",
   "execution_count": 26,
   "metadata": {
    "execution": {
     "iopub.execute_input": "2023-06-09T22:58:34.335431Z",
     "iopub.status.busy": "2023-06-09T22:58:34.335087Z",
     "iopub.status.idle": "2023-06-09T22:58:34.345423Z",
     "shell.execute_reply": "2023-06-09T22:58:34.344432Z",
     "shell.execute_reply.started": "2023-06-09T22:58:34.335379Z"
    }
   },
   "outputs": [
    {
     "data": {
      "text/plain": [
       "'078'"
      ]
     },
     "execution_count": 26,
     "metadata": {},
     "output_type": "execute_result"
    }
   ],
   "source": [
    "import re\n",
    "''.join(re.findall(r'\\d+', \"Id_0khgx7z8tk.jpg\"))"
   ]
  },
  {
   "cell_type": "code",
   "execution_count": 27,
   "metadata": {
    "execution": {
     "iopub.execute_input": "2023-06-09T22:58:34.347695Z",
     "iopub.status.busy": "2023-06-09T22:58:34.347285Z",
     "iopub.status.idle": "2023-06-09T22:58:34.832282Z",
     "shell.execute_reply": "2023-06-09T22:58:34.831398Z",
     "shell.execute_reply.started": "2023-06-09T22:58:34.347665Z"
    },
    "id": "Px7j8fmXwirJ"
   },
   "outputs": [
    {
     "data": {
      "text/plain": [
       "'Test slide #33'"
      ]
     },
     "metadata": {},
     "output_type": "display_data"
    },
    {
     "data": {
      "image/png": "[encoded data removed]",
      "text/plain": [
       "<PIL.Image.Image image mode=RGB size=640x360>"
      ]
     },
     "metadata": {},
     "output_type": "display_data"
    },
    {
     "data": {
      "text/html": [
       "<div>\n",
       "<style scoped>\n",
       "    .dataframe tbody tr th:only-of-type {\n",
       "        vertical-align: middle;\n",
       "    }\n",
       "\n",
       "    .dataframe tbody tr th {\n",
       "        vertical-align: top;\n",
       "    }\n",
       "\n",
       "    .dataframe thead th {\n",
       "        text-align: right;\n",
       "    }\n",
       "</style>\n",
       "<table border=\"1\" class=\"dataframe\">\n",
       "  <thead>\n",
       "    <tr style=\"text-align: right;\">\n",
       "      <th></th>\n",
       "      <th>width</th>\n",
       "      <th>height</th>\n",
       "      <th>area</th>\n",
       "      <th>fontsize</th>\n",
       "      <th>bbox</th>\n",
       "      <th>text</th>\n",
       "    </tr>\n",
       "  </thead>\n",
       "  <tbody>\n",
       "    <tr>\n",
       "      <th>0</th>\n",
       "      <td>68.0</td>\n",
       "      <td>8.0</td>\n",
       "      <td>544.0</td>\n",
       "      <td>4.250000</td>\n",
       "      <td>[4, 12, 312, 380]</td>\n",
       "      <td>powerpcint Slide</td>\n",
       "    </tr>\n",
       "    <tr>\n",
       "      <th>1</th>\n",
       "      <td>22.0</td>\n",
       "      <td>8.0</td>\n",
       "      <td>176.0</td>\n",
       "      <td>4.400000</td>\n",
       "      <td>[4, 12, 384, 406]</td>\n",
       "      <td>snout</td>\n",
       "    </tr>\n",
       "    <tr>\n",
       "      <th>2</th>\n",
       "      <td>40.0</td>\n",
       "      <td>8.0</td>\n",
       "      <td>320.0</td>\n",
       "      <td>4.444444</td>\n",
       "      <td>[4, 12, 416, 456]</td>\n",
       "      <td>(Bias UUI</td>\n",
       "    </tr>\n",
       "    <tr>\n",
       "      <th>3</th>\n",
       "      <td>261.0</td>\n",
       "      <td>24.0</td>\n",
       "      <td>6264.0</td>\n",
       "      <td>7.909091</td>\n",
       "      <td>[35, 59, 137, 398]</td>\n",
       "      <td>Measuring osteoarthritis severity</td>\n",
       "    </tr>\n",
       "    <tr>\n",
       "      <th>4</th>\n",
       "      <td>50.0</td>\n",
       "      <td>8.0</td>\n",
       "      <td>400.0</td>\n",
       "      <td>4.545455</td>\n",
       "      <td>[62, 70, 640, 690]</td>\n",
       "      <td>Zud Gu4mcyc</td>\n",
       "    </tr>\n",
       "  </tbody>\n",
       "</table>\n",
       "</div>"
      ],
      "text/plain": [
       "   width  height    area  fontsize                bbox  \\\n",
       "0   68.0     8.0   544.0  4.250000   [4, 12, 312, 380]   \n",
       "1   22.0     8.0   176.0  4.400000   [4, 12, 384, 406]   \n",
       "2   40.0     8.0   320.0  4.444444   [4, 12, 416, 456]   \n",
       "3  261.0    24.0  6264.0  7.909091  [35, 59, 137, 398]   \n",
       "4   50.0     8.0   400.0  4.545455  [62, 70, 640, 690]   \n",
       "\n",
       "                                text  \n",
       "0                   powerpcint Slide  \n",
       "1                              snout  \n",
       "2                          (Bias UUI  \n",
       "3  Measuring osteoarthritis severity  \n",
       "4                        Zud Gu4mcyc  "
      ]
     },
     "metadata": {},
     "output_type": "display_data"
    }
   ],
   "source": [
    "# Load some test image and read the text on it\n",
    "slide_ = cv2.imread('Test/Images/Id_76dbm25833.jpg')\n",
    "\n",
    "textboxes_ = read_text(slide_)\n",
    "\n",
    "textdata_ = pd.DataFrame(list(textboxes_))\n",
    "del textdata_['conf']\n",
    "             \n",
    "slide_debug_ = draw_boxes(slide_, [ box['bbox'] for box in textboxes_ ])\n",
    "\n",
    "display(f\"Test slide #33\", \n",
    "    Image.fromarray(slide_debug_).resize((640,360)), textdata_.head(5))"
   ]
  },
  {
   "cell_type": "code",
   "execution_count": 28,
   "metadata": {
    "execution": {
     "iopub.execute_input": "2023-06-09T22:58:34.834286Z",
     "iopub.status.busy": "2023-06-09T22:58:34.833899Z",
     "iopub.status.idle": "2023-06-09T22:58:34.841676Z",
     "shell.execute_reply": "2023-06-09T22:58:34.840671Z",
     "shell.execute_reply.started": "2023-06-09T22:58:34.834250Z"
    }
   },
   "outputs": [
    {
     "data": {
      "text/plain": [
       "array([[[  0,   0,   0],\n",
       "        [  0,   0,   0],\n",
       "        [  0,   0,   0],\n",
       "        ...,\n",
       "        [146, 155, 164],\n",
       "        [147, 154, 163],\n",
       "        [146, 153, 162]],\n",
       "\n",
       "       [[  0,   0,   0],\n",
       "        [  0,   0,   0],\n",
       "        [  0,   0,   0],\n",
       "        ...,\n",
       "        [146, 155, 164],\n",
       "        [147, 154, 163],\n",
       "        [147, 154, 163]],\n",
       "\n",
       "       [[  0,   0,   0],\n",
       "        [  0,   0,   0],\n",
       "        [  0,   0,   0],\n",
       "        ...,\n",
       "        [150, 157, 166],\n",
       "        [149, 156, 165],\n",
       "        [148, 155, 164]],\n",
       "\n",
       "       ...,\n",
       "\n",
       "       [[  0,   0,   0],\n",
       "        [  0,   0,   0],\n",
       "        [  0,   0,   0],\n",
       "        ...,\n",
       "        [  0,   0,   0],\n",
       "        [  0,   0,   0],\n",
       "        [  0,   0,   0]],\n",
       "\n",
       "       [[  0,   0,   0],\n",
       "        [  0,   0,   0],\n",
       "        [  0,   0,   0],\n",
       "        ...,\n",
       "        [  0,   0,   0],\n",
       "        [  0,   0,   0],\n",
       "        [  0,   0,   0]],\n",
       "\n",
       "       [[  0,   0,   0],\n",
       "        [  0,   0,   0],\n",
       "        [  0,   0,   0],\n",
       "        ...,\n",
       "        [  0,   0,   0],\n",
       "        [  0,   0,   0],\n",
       "        [  0,   0,   0]]], dtype=uint8)"
      ]
     },
     "execution_count": 28,
     "metadata": {},
     "output_type": "execute_result"
    }
   ],
   "source": [
    "slide_"
   ]
  },
  {
   "cell_type": "code",
   "execution_count": 29,
   "metadata": {
    "execution": {
     "iopub.execute_input": "2023-06-09T22:58:34.843968Z",
     "iopub.status.busy": "2023-06-09T22:58:34.843310Z",
     "iopub.status.idle": "2023-06-09T22:58:35.025150Z",
     "shell.execute_reply": "2023-06-09T22:58:35.024083Z",
     "shell.execute_reply.started": "2023-06-09T22:58:34.843933Z"
    },
    "id": "LtmwXdD6wn80"
   },
   "outputs": [
    {
     "data": {
      "text/plain": [
       "'Test slide #33 (segmentation output)'"
      ]
     },
     "metadata": {},
     "output_type": "display_data"
    },
    {
     "data": {
      "image/png": "[encoded data removed]",
      "text/plain": [
       "<PIL.Image.Image image mode=L size=640x360>"
      ]
     },
     "metadata": {},
     "output_type": "display_data"
    },
    {
     "data": {
      "text/html": [
       "<div>\n",
       "<style scoped>\n",
       "    .dataframe tbody tr th:only-of-type {\n",
       "        vertical-align: middle;\n",
       "    }\n",
       "\n",
       "    .dataframe tbody tr th {\n",
       "        vertical-align: top;\n",
       "    }\n",
       "\n",
       "    .dataframe thead th {\n",
       "        text-align: right;\n",
       "    }\n",
       "</style>\n",
       "<table border=\"1\" class=\"dataframe\">\n",
       "  <thead>\n",
       "    <tr style=\"text-align: right;\">\n",
       "      <th></th>\n",
       "      <th>width</th>\n",
       "      <th>height</th>\n",
       "      <th>area</th>\n",
       "      <th>fontsize</th>\n",
       "      <th>bbox</th>\n",
       "      <th>text</th>\n",
       "      <th>score</th>\n",
       "    </tr>\n",
       "  </thead>\n",
       "  <tbody>\n",
       "    <tr>\n",
       "      <th>0</th>\n",
       "      <td>68.0</td>\n",
       "      <td>8.0</td>\n",
       "      <td>544.0</td>\n",
       "      <td>4.250000</td>\n",
       "      <td>[4, 12, 312, 380]</td>\n",
       "      <td>powerpcint Slide</td>\n",
       "      <td>0.089590</td>\n",
       "    </tr>\n",
       "    <tr>\n",
       "      <th>1</th>\n",
       "      <td>22.0</td>\n",
       "      <td>8.0</td>\n",
       "      <td>176.0</td>\n",
       "      <td>4.400000</td>\n",
       "      <td>[4, 12, 384, 406]</td>\n",
       "      <td>snout</td>\n",
       "      <td>0.129811</td>\n",
       "    </tr>\n",
       "    <tr>\n",
       "      <th>2</th>\n",
       "      <td>40.0</td>\n",
       "      <td>8.0</td>\n",
       "      <td>320.0</td>\n",
       "      <td>4.444444</td>\n",
       "      <td>[4, 12, 416, 456]</td>\n",
       "      <td>(Bias UUI</td>\n",
       "      <td>0.186056</td>\n",
       "    </tr>\n",
       "    <tr>\n",
       "      <th>3</th>\n",
       "      <td>261.0</td>\n",
       "      <td>24.0</td>\n",
       "      <td>6264.0</td>\n",
       "      <td>7.909091</td>\n",
       "      <td>[35, 59, 137, 398]</td>\n",
       "      <td>Measuring osteoarthritis severity</td>\n",
       "      <td>0.623900</td>\n",
       "    </tr>\n",
       "    <tr>\n",
       "      <th>4</th>\n",
       "      <td>50.0</td>\n",
       "      <td>8.0</td>\n",
       "      <td>400.0</td>\n",
       "      <td>4.545455</td>\n",
       "      <td>[62, 70, 640, 690]</td>\n",
       "      <td>Zud Gu4mcyc</td>\n",
       "      <td>0.063875</td>\n",
       "    </tr>\n",
       "  </tbody>\n",
       "</table>\n",
       "</div>"
      ],
      "text/plain": [
       "   width  height    area  fontsize                bbox  \\\n",
       "0   68.0     8.0   544.0  4.250000   [4, 12, 312, 380]   \n",
       "1   22.0     8.0   176.0  4.400000   [4, 12, 384, 406]   \n",
       "2   40.0     8.0   320.0  4.444444   [4, 12, 416, 456]   \n",
       "3  261.0    24.0  6264.0  7.909091  [35, 59, 137, 398]   \n",
       "4   50.0     8.0   400.0  4.545455  [62, 70, 640, 690]   \n",
       "\n",
       "                                text     score  \n",
       "0                   powerpcint Slide  0.089590  \n",
       "1                              snout  0.129811  \n",
       "2                          (Bias UUI  0.186056  \n",
       "3  Measuring osteoarthritis severity  0.623900  \n",
       "4                        Zud Gu4mcyc  0.063875  "
      ]
     },
     "metadata": {},
     "output_type": "display_data"
    }
   ],
   "source": [
    "#### Now, we will apply finetuned DeepLab model and \"score\" each textbox as to whether it might be a title or not\n",
    "\n",
    "out, scores = titlesegment(slide_, [ box['bbox'] for box in textboxes_ ])\n",
    "out_mask = (np.abs(out.cpu().numpy())*255).astype(np.uint8)\n",
    "\n",
    "textdata_['score'] = scores\n",
    "\n",
    "display(f\"Test slide #33 (segmentation output)\", Image.fromarray(out_mask).resize((640,360)), textdata_.head(5))\n"
   ]
  },
  {
   "cell_type": "code",
   "execution_count": 30,
   "metadata": {
    "execution": {
     "iopub.execute_input": "2023-06-09T22:58:35.027336Z",
     "iopub.status.busy": "2023-06-09T22:58:35.026931Z",
     "iopub.status.idle": "2023-06-09T22:58:35.031932Z",
     "shell.execute_reply": "2023-06-09T22:58:35.030698Z",
     "shell.execute_reply.started": "2023-06-09T22:58:35.027303Z"
    }
   },
   "outputs": [],
   "source": [
    "# [''.join(re.findall(r'\\d+', x)) for x in os.listdir('Test/Images')]"
   ]
  },
  {
   "cell_type": "code",
   "execution_count": null,
   "metadata": {
    "execution": {
     "iopub.execute_input": "2023-06-09T22:58:35.034146Z",
     "iopub.status.busy": "2023-06-09T22:58:35.033777Z"
    },
    "id": "IyHd80jFwrWi"
   },
   "outputs": [
    {
     "name": "stderr",
     "output_type": "stream",
     "text": [
      " 58%|█████▊    | 169/290 [00:59<00:33,  3.59it/s]"
     ]
    }
   ],
   "source": [
    "#### Iterate this method on all test images\n",
    "from tqdm import tqdm\n",
    "\n",
    "images = sorted(glob.glob('Test/Images/*.jpg'))\n",
    "result = []\n",
    "\n",
    "for path in tqdm(images):\n",
    "    image = cv2.imread(path)\n",
    "    textboxes = read_text(image)\n",
    "\n",
    "    out, scores = titlesegment(image, [ box['bbox'] for box in textboxes ])\n",
    "    titleboxes = pickonetitle(textboxes, scores)\n",
    "    \n",
    "    # Sort text boxes as you would read it in English: from top to bottom\n",
    "    # and from left to right\n",
    "    titleboxes = sort_boxes(titleboxes)\n",
    "    title = ' '.join(box['text'] for box in titleboxes)    \n",
    "    \n",
    "    image_id = path.split(\"/\")[-1] #int(''.join(re.findall(r'\\d+', path.split('.')[0].split('/')[-1])))\n",
    "    result.append([image_id, title])\n",
    "\n",
    "\n",
    "#### Convert the result to a dataframe and save it\n",
    "\n",
    "df = pd.DataFrame.from_records(result, columns=['ID','Title'])\n",
    "df\n"
   ]
  },
  {
   "cell_type": "code",
   "execution_count": null,
   "metadata": {
    "executionInfo": {
     "elapsed": 626,
     "status": "ok",
     "timestamp": 1685803454703,
     "user": {
      "displayName": "Ameck Dosseh",
      "userId": "09603352587859208137"
     },
     "user_tz": -60
    },
    "id": "GedXAwZ0tog7"
   },
   "outputs": [],
   "source": [
    "df.to_csv('Submission_fcn2.csv', index=False)"
   ]
  },
  {
   "cell_type": "code",
   "execution_count": null,
   "metadata": {},
   "outputs": [],
   "source": []
  },
  {
   "cell_type": "code",
   "execution_count": null,
   "metadata": {},
   "outputs": [],
   "source": []
  }
 ],
 "metadata": {
  "kernelspec": {
   "display_name": "Python 3 (ipykernel)",
   "language": "python",
   "name": "python3"
  },
  "language_info": {
   "codemirror_mode": {
    "name": "ipython",
    "version": 3
   },
   "file_extension": ".py",
   "mimetype": "text/x-python",
   "name": "python",
   "nbconvert_exporter": "python",
   "pygments_lexer": "ipython3",
   "version": "3.10.9"
  }
 },
 "nbformat": 4,
 "nbformat_minor": 4
}
